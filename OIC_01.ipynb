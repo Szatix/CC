{
 "cells": [
  {
   "cell_type": "code",
   "execution_count": 2,
   "metadata": {
    "collapsed": false
   },
   "outputs": [
    {
     "name": "stdout",
     "output_type": "stream",
     "text": [
      "For info about input please read pokerReadMe.txt\n",
      "My first card is C7\n",
      "My second card is D9\n",
      "[0, 0, 2, 18, 0, 192, 308, 792, 7920, 10368]\n",
      "474.69198727607727\n"
     ]
    }
   ],
   "source": [
    "import pandas as pd\n",
    "import time\n",
    "from pyspark import SparkContext\n",
    "\n",
    "sc = SparkContext(\"spark://ip-172-31-38-153.ec2.internal:7077\", \"MyApp\")\n",
    "print(\"For info about input please read pokerReadMe.txt\")\n",
    "dt = pd.read_csv('poker_dataset.csv', delimiter = \",\")\n",
    "k1 = input(\"My first card is \")\n",
    "k2 = input(\"My second card is \")\n",
    "dh = [k1,k2]\n",
    "x = [0] * 10\n",
    "start_time = time.time()\n",
    "for i in dt.index:   \n",
    "    if set(dh).issubset(set(dt.loc[i])):\n",
    "        x[dt.at[i,'V6']] += 1\n",
    "    \n",
    "time = time.time() - start_time\n",
    "print(x)\n",
    "print(time)\n",
    "sc.stop()"
   ]
  },
  {
   "cell_type": "code",
   "execution_count": 2,
   "metadata": {
    "collapsed": false
   },
   "outputs": [
    {
     "ename": "NameError",
     "evalue": "name 'x' is not defined",
     "output_type": "error",
     "traceback": [
      "\u001b[1;31m---------------------------------------------------------------------------\u001b[0m",
      "\u001b[1;31mNameError\u001b[0m                                 Traceback (most recent call last)",
      "\u001b[1;32m<ipython-input-2-81745ac23551>\u001b[0m in \u001b[0;36m<module>\u001b[1;34m()\u001b[0m\n\u001b[1;32m----> 1\u001b[1;33m \u001b[0mprint\u001b[0m\u001b[1;33m(\u001b[0m\u001b[0mx\u001b[0m\u001b[1;33m)\u001b[0m\u001b[1;33m\u001b[0m\u001b[0m\n\u001b[0m",
      "\u001b[1;31mNameError\u001b[0m: name 'x' is not defined"
     ]
    }
   ],
   "source": [
    "print(x)"
   ]
  },
  {
   "cell_type": "code",
   "execution_count": null,
   "metadata": {
    "collapsed": true
   },
   "outputs": [],
   "source": []
  }
 ],
 "metadata": {
  "anaconda-cloud": {},
  "kernelspec": {
   "display_name": "Python [Root]",
   "language": "python",
   "name": "Python [Root]"
  },
  "language_info": {
   "codemirror_mode": {
    "name": "ipython",
    "version": 3
   },
   "file_extension": ".py",
   "mimetype": "text/x-python",
   "name": "python",
   "nbconvert_exporter": "python",
   "pygments_lexer": "ipython3",
   "version": "3.5.2"
  }
 },
 "nbformat": 4,
 "nbformat_minor": 2
}
