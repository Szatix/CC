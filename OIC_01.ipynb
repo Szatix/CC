{
 "cells": [
  {
   "cell_type": "code",
   "execution_count": null,
   "metadata": {
    "collapsed": true
   },
   "outputs": [],
   "source": [
    "import pandas as pd\n",
    "import time\n",
    "from pyspark import SparkContext\n",
    "\n",
    "sc = SparkContext(\"spark://ip-172-31-38-153.ec2.internal:7077\", \"MyApp\")\n",
    "print(\"For info about input please read pokerReadMe.txt\")\n",
    "dt = pd.read_csv('poker_dataset.csv', delimiter = \",\")\n",
    "k1 = input(\"My first card is \")\n",
    "k2 = input(\"My second card is \")\n",
    "dh = [k1,k2]\n",
    "x = [0] * 10\n",
    "start_time = time.time()\n",
    "for i in dt.index:   \n",
    "    if set(dh).issubset(set(dt.loc[i])):\n",
    "        x[dt.at[i,'V6']] += 1\n",
    "    \n",
    "time = time.time() - start_time\n",
    "print(x)\n",
    "print(time)\n",
    "sc.stop()"
   ]
  }
 ],
 "metadata": {
  "anaconda-cloud": {},
  "kernelspec": {
   "display_name": "Python 3",
   "language": "python",
   "name": "python3"
  },
  "language_info": {
   "codemirror_mode": {
    "name": "ipython",
    "version": 3
   },
   "file_extension": ".py",
   "mimetype": "text/x-python",
   "name": "python",
   "nbconvert_exporter": "python",
   "pygments_lexer": "ipython3",
   "version": "3.7.4"
  }
 },
 "nbformat": 4,
 "nbformat_minor": 2
}
